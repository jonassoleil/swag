{
  "nbformat": 4,
  "nbformat_minor": 0,
  "metadata": {
    "colab": {
      "name": "analysis.ipynb",
      "provenance": [],
      "collapsed_sections": []
    },
    "kernelspec": {
      "name": "python3",
      "display_name": "Python 3"
    },
    "language_info": {
      "name": "python"
    },
    "widgets": {
      "application/vnd.jupyter.widget-state+json": {
        "52909c44b2744a16817764e71c0dc039": {
          "model_module": "@jupyter-widgets/controls",
          "model_name": "HBoxModel",
          "state": {
            "_view_name": "HBoxView",
            "_dom_classes": [],
            "_model_name": "HBoxModel",
            "_view_module": "@jupyter-widgets/controls",
            "_model_module_version": "1.5.0",
            "_view_count": null,
            "_view_module_version": "1.5.0",
            "box_style": "",
            "layout": "IPY_MODEL_4a00a677e6524d2dafc851fb23fd2462",
            "_model_module": "@jupyter-widgets/controls",
            "children": [
              "IPY_MODEL_619b49732c344a39ac2b35f5ba28dcfe",
              "IPY_MODEL_6197c0be29a44d2195d852d25ed6e8cf"
            ]
          }
        },
        "4a00a677e6524d2dafc851fb23fd2462": {
          "model_module": "@jupyter-widgets/base",
          "model_name": "LayoutModel",
          "state": {
            "_view_name": "LayoutView",
            "grid_template_rows": null,
            "right": null,
            "justify_content": null,
            "_view_module": "@jupyter-widgets/base",
            "overflow": null,
            "_model_module_version": "1.2.0",
            "_view_count": null,
            "flex_flow": null,
            "width": null,
            "min_width": null,
            "border": null,
            "align_items": null,
            "bottom": null,
            "_model_module": "@jupyter-widgets/base",
            "top": null,
            "grid_column": null,
            "overflow_y": null,
            "overflow_x": null,
            "grid_auto_flow": null,
            "grid_area": null,
            "grid_template_columns": null,
            "flex": null,
            "_model_name": "LayoutModel",
            "justify_items": null,
            "grid_row": null,
            "max_height": null,
            "align_content": null,
            "visibility": null,
            "align_self": null,
            "height": null,
            "min_height": null,
            "padding": null,
            "grid_auto_rows": null,
            "grid_gap": null,
            "max_width": null,
            "order": null,
            "_view_module_version": "1.2.0",
            "grid_template_areas": null,
            "object_position": null,
            "object_fit": null,
            "grid_auto_columns": null,
            "margin": null,
            "display": null,
            "left": null
          }
        },
        "619b49732c344a39ac2b35f5ba28dcfe": {
          "model_module": "@jupyter-widgets/controls",
          "model_name": "FloatProgressModel",
          "state": {
            "_view_name": "ProgressView",
            "style": "IPY_MODEL_bed0a7deea74409fbd5fd842d8c72d08",
            "_dom_classes": [],
            "description": "100%",
            "_model_name": "FloatProgressModel",
            "bar_style": "success",
            "max": 9,
            "_view_module": "@jupyter-widgets/controls",
            "_model_module_version": "1.5.0",
            "value": 9,
            "_view_count": null,
            "_view_module_version": "1.5.0",
            "orientation": "horizontal",
            "min": 0,
            "description_tooltip": null,
            "_model_module": "@jupyter-widgets/controls",
            "layout": "IPY_MODEL_76bb0d10170f43bb94f215064e7acde3"
          }
        },
        "6197c0be29a44d2195d852d25ed6e8cf": {
          "model_module": "@jupyter-widgets/controls",
          "model_name": "HTMLModel",
          "state": {
            "_view_name": "HTMLView",
            "style": "IPY_MODEL_f1fc45c449944fcfa62704de0217cec1",
            "_dom_classes": [],
            "description": "",
            "_model_name": "HTMLModel",
            "placeholder": "​",
            "_view_module": "@jupyter-widgets/controls",
            "_model_module_version": "1.5.0",
            "value": " 9/9 [01:36&lt;00:00, 10.70s/it]",
            "_view_count": null,
            "_view_module_version": "1.5.0",
            "description_tooltip": null,
            "_model_module": "@jupyter-widgets/controls",
            "layout": "IPY_MODEL_d46424f0e80b400b814f7b983ff2b5dc"
          }
        },
        "bed0a7deea74409fbd5fd842d8c72d08": {
          "model_module": "@jupyter-widgets/controls",
          "model_name": "ProgressStyleModel",
          "state": {
            "_view_name": "StyleView",
            "_model_name": "ProgressStyleModel",
            "description_width": "initial",
            "_view_module": "@jupyter-widgets/base",
            "_model_module_version": "1.5.0",
            "_view_count": null,
            "_view_module_version": "1.2.0",
            "bar_color": null,
            "_model_module": "@jupyter-widgets/controls"
          }
        },
        "76bb0d10170f43bb94f215064e7acde3": {
          "model_module": "@jupyter-widgets/base",
          "model_name": "LayoutModel",
          "state": {
            "_view_name": "LayoutView",
            "grid_template_rows": null,
            "right": null,
            "justify_content": null,
            "_view_module": "@jupyter-widgets/base",
            "overflow": null,
            "_model_module_version": "1.2.0",
            "_view_count": null,
            "flex_flow": null,
            "width": null,
            "min_width": null,
            "border": null,
            "align_items": null,
            "bottom": null,
            "_model_module": "@jupyter-widgets/base",
            "top": null,
            "grid_column": null,
            "overflow_y": null,
            "overflow_x": null,
            "grid_auto_flow": null,
            "grid_area": null,
            "grid_template_columns": null,
            "flex": null,
            "_model_name": "LayoutModel",
            "justify_items": null,
            "grid_row": null,
            "max_height": null,
            "align_content": null,
            "visibility": null,
            "align_self": null,
            "height": null,
            "min_height": null,
            "padding": null,
            "grid_auto_rows": null,
            "grid_gap": null,
            "max_width": null,
            "order": null,
            "_view_module_version": "1.2.0",
            "grid_template_areas": null,
            "object_position": null,
            "object_fit": null,
            "grid_auto_columns": null,
            "margin": null,
            "display": null,
            "left": null
          }
        },
        "f1fc45c449944fcfa62704de0217cec1": {
          "model_module": "@jupyter-widgets/controls",
          "model_name": "DescriptionStyleModel",
          "state": {
            "_view_name": "StyleView",
            "_model_name": "DescriptionStyleModel",
            "description_width": "",
            "_view_module": "@jupyter-widgets/base",
            "_model_module_version": "1.5.0",
            "_view_count": null,
            "_view_module_version": "1.2.0",
            "_model_module": "@jupyter-widgets/controls"
          }
        },
        "d46424f0e80b400b814f7b983ff2b5dc": {
          "model_module": "@jupyter-widgets/base",
          "model_name": "LayoutModel",
          "state": {
            "_view_name": "LayoutView",
            "grid_template_rows": null,
            "right": null,
            "justify_content": null,
            "_view_module": "@jupyter-widgets/base",
            "overflow": null,
            "_model_module_version": "1.2.0",
            "_view_count": null,
            "flex_flow": null,
            "width": null,
            "min_width": null,
            "border": null,
            "align_items": null,
            "bottom": null,
            "_model_module": "@jupyter-widgets/base",
            "top": null,
            "grid_column": null,
            "overflow_y": null,
            "overflow_x": null,
            "grid_auto_flow": null,
            "grid_area": null,
            "grid_template_columns": null,
            "flex": null,
            "_model_name": "LayoutModel",
            "justify_items": null,
            "grid_row": null,
            "max_height": null,
            "align_content": null,
            "visibility": null,
            "align_self": null,
            "height": null,
            "min_height": null,
            "padding": null,
            "grid_auto_rows": null,
            "grid_gap": null,
            "max_width": null,
            "order": null,
            "_view_module_version": "1.2.0",
            "grid_template_areas": null,
            "object_position": null,
            "object_fit": null,
            "grid_auto_columns": null,
            "margin": null,
            "display": null,
            "left": null
          }
        },
        "b720f87338614d83815a837dc0570c9f": {
          "model_module": "@jupyter-widgets/controls",
          "model_name": "HBoxModel",
          "state": {
            "_view_name": "HBoxView",
            "_dom_classes": [],
            "_model_name": "HBoxModel",
            "_view_module": "@jupyter-widgets/controls",
            "_model_module_version": "1.5.0",
            "_view_count": null,
            "_view_module_version": "1.5.0",
            "box_style": "",
            "layout": "IPY_MODEL_88bedb239fcf4007b48fb0dd2606c10e",
            "_model_module": "@jupyter-widgets/controls",
            "children": [
              "IPY_MODEL_585c58c1663349f09f1cee63e8e7c3be",
              "IPY_MODEL_254ba06facff4acfa62fda25caa74763"
            ]
          }
        },
        "88bedb239fcf4007b48fb0dd2606c10e": {
          "model_module": "@jupyter-widgets/base",
          "model_name": "LayoutModel",
          "state": {
            "_view_name": "LayoutView",
            "grid_template_rows": null,
            "right": null,
            "justify_content": null,
            "_view_module": "@jupyter-widgets/base",
            "overflow": null,
            "_model_module_version": "1.2.0",
            "_view_count": null,
            "flex_flow": null,
            "width": null,
            "min_width": null,
            "border": null,
            "align_items": null,
            "bottom": null,
            "_model_module": "@jupyter-widgets/base",
            "top": null,
            "grid_column": null,
            "overflow_y": null,
            "overflow_x": null,
            "grid_auto_flow": null,
            "grid_area": null,
            "grid_template_columns": null,
            "flex": null,
            "_model_name": "LayoutModel",
            "justify_items": null,
            "grid_row": null,
            "max_height": null,
            "align_content": null,
            "visibility": null,
            "align_self": null,
            "height": null,
            "min_height": null,
            "padding": null,
            "grid_auto_rows": null,
            "grid_gap": null,
            "max_width": null,
            "order": null,
            "_view_module_version": "1.2.0",
            "grid_template_areas": null,
            "object_position": null,
            "object_fit": null,
            "grid_auto_columns": null,
            "margin": null,
            "display": null,
            "left": null
          }
        },
        "585c58c1663349f09f1cee63e8e7c3be": {
          "model_module": "@jupyter-widgets/controls",
          "model_name": "FloatProgressModel",
          "state": {
            "_view_name": "ProgressView",
            "style": "IPY_MODEL_a8a2cbaf52b145b5a42cbe9a5e228605",
            "_dom_classes": [],
            "description": "100%",
            "_model_name": "FloatProgressModel",
            "bar_style": "success",
            "max": 9,
            "_view_module": "@jupyter-widgets/controls",
            "_model_module_version": "1.5.0",
            "value": 9,
            "_view_count": null,
            "_view_module_version": "1.5.0",
            "orientation": "horizontal",
            "min": 0,
            "description_tooltip": null,
            "_model_module": "@jupyter-widgets/controls",
            "layout": "IPY_MODEL_8c59ac03048b43838211dc806d4f4fb8"
          }
        },
        "254ba06facff4acfa62fda25caa74763": {
          "model_module": "@jupyter-widgets/controls",
          "model_name": "HTMLModel",
          "state": {
            "_view_name": "HTMLView",
            "style": "IPY_MODEL_81906c27eab54fdd97a4fdb52d968ab0",
            "_dom_classes": [],
            "description": "",
            "_model_name": "HTMLModel",
            "placeholder": "​",
            "_view_module": "@jupyter-widgets/controls",
            "_model_module_version": "1.5.0",
            "value": " 9/9 [17:25&lt;00:00, 116.12s/it]",
            "_view_count": null,
            "_view_module_version": "1.5.0",
            "description_tooltip": null,
            "_model_module": "@jupyter-widgets/controls",
            "layout": "IPY_MODEL_61aaca49bc824b75b3d90c43e4cb14e4"
          }
        },
        "a8a2cbaf52b145b5a42cbe9a5e228605": {
          "model_module": "@jupyter-widgets/controls",
          "model_name": "ProgressStyleModel",
          "state": {
            "_view_name": "StyleView",
            "_model_name": "ProgressStyleModel",
            "description_width": "initial",
            "_view_module": "@jupyter-widgets/base",
            "_model_module_version": "1.5.0",
            "_view_count": null,
            "_view_module_version": "1.2.0",
            "bar_color": null,
            "_model_module": "@jupyter-widgets/controls"
          }
        },
        "8c59ac03048b43838211dc806d4f4fb8": {
          "model_module": "@jupyter-widgets/base",
          "model_name": "LayoutModel",
          "state": {
            "_view_name": "LayoutView",
            "grid_template_rows": null,
            "right": null,
            "justify_content": null,
            "_view_module": "@jupyter-widgets/base",
            "overflow": null,
            "_model_module_version": "1.2.0",
            "_view_count": null,
            "flex_flow": null,
            "width": null,
            "min_width": null,
            "border": null,
            "align_items": null,
            "bottom": null,
            "_model_module": "@jupyter-widgets/base",
            "top": null,
            "grid_column": null,
            "overflow_y": null,
            "overflow_x": null,
            "grid_auto_flow": null,
            "grid_area": null,
            "grid_template_columns": null,
            "flex": null,
            "_model_name": "LayoutModel",
            "justify_items": null,
            "grid_row": null,
            "max_height": null,
            "align_content": null,
            "visibility": null,
            "align_self": null,
            "height": null,
            "min_height": null,
            "padding": null,
            "grid_auto_rows": null,
            "grid_gap": null,
            "max_width": null,
            "order": null,
            "_view_module_version": "1.2.0",
            "grid_template_areas": null,
            "object_position": null,
            "object_fit": null,
            "grid_auto_columns": null,
            "margin": null,
            "display": null,
            "left": null
          }
        },
        "81906c27eab54fdd97a4fdb52d968ab0": {
          "model_module": "@jupyter-widgets/controls",
          "model_name": "DescriptionStyleModel",
          "state": {
            "_view_name": "StyleView",
            "_model_name": "DescriptionStyleModel",
            "description_width": "",
            "_view_module": "@jupyter-widgets/base",
            "_model_module_version": "1.5.0",
            "_view_count": null,
            "_view_module_version": "1.2.0",
            "_model_module": "@jupyter-widgets/controls"
          }
        },
        "61aaca49bc824b75b3d90c43e4cb14e4": {
          "model_module": "@jupyter-widgets/base",
          "model_name": "LayoutModel",
          "state": {
            "_view_name": "LayoutView",
            "grid_template_rows": null,
            "right": null,
            "justify_content": null,
            "_view_module": "@jupyter-widgets/base",
            "overflow": null,
            "_model_module_version": "1.2.0",
            "_view_count": null,
            "flex_flow": null,
            "width": null,
            "min_width": null,
            "border": null,
            "align_items": null,
            "bottom": null,
            "_model_module": "@jupyter-widgets/base",
            "top": null,
            "grid_column": null,
            "overflow_y": null,
            "overflow_x": null,
            "grid_auto_flow": null,
            "grid_area": null,
            "grid_template_columns": null,
            "flex": null,
            "_model_name": "LayoutModel",
            "justify_items": null,
            "grid_row": null,
            "max_height": null,
            "align_content": null,
            "visibility": null,
            "align_self": null,
            "height": null,
            "min_height": null,
            "padding": null,
            "grid_auto_rows": null,
            "grid_gap": null,
            "max_width": null,
            "order": null,
            "_view_module_version": "1.2.0",
            "grid_template_areas": null,
            "object_position": null,
            "object_fit": null,
            "grid_auto_columns": null,
            "margin": null,
            "display": null,
            "left": null
          }
        }
      }
    }
  },
  "cells": [
    {
      "cell_type": "code",
      "metadata": {
        "id": "Psgx_qhuEnHz",
        "colab": {
          "base_uri": "https://localhost:8080/"
        },
        "outputId": "a50ae0f7-0d36-4ed4-9b24-88f0edd39112"
      },
      "source": [
        "! git clone https://github.com/jonassoleil/swag.git\n",
        "! pip install wandb"
      ],
      "execution_count": 1,
      "outputs": [
        {
          "output_type": "stream",
          "text": [
            "Cloning into 'swag'...\n",
            "remote: Enumerating objects: 361, done.\u001b[K\n",
            "remote: Counting objects: 100% (361/361), done.\u001b[K\n",
            "remote: Compressing objects: 100% (223/223), done.\u001b[K\n",
            "remote: Total 361 (delta 198), reused 281 (delta 122), pack-reused 0\u001b[K\n",
            "Receiving objects: 100% (361/361), 137.94 KiB | 15.33 MiB/s, done.\n",
            "Resolving deltas: 100% (198/198), done.\n",
            "Collecting wandb\n",
            "\u001b[?25l  Downloading https://files.pythonhosted.org/packages/5c/ee/d755f9e5466df64c8416a2c6a860fb3aaa43ed6ea8e8e8e81460fda5788b/wandb-0.10.28-py2.py3-none-any.whl (2.1MB)\n",
            "\u001b[K     |████████████████████████████████| 2.1MB 16.3MB/s \n",
            "\u001b[?25hRequirement already satisfied: python-dateutil>=2.6.1 in /usr/local/lib/python3.7/dist-packages (from wandb) (2.8.1)\n",
            "Collecting pathtools\n",
            "  Downloading https://files.pythonhosted.org/packages/e7/7f/470d6fcdf23f9f3518f6b0b76be9df16dcc8630ad409947f8be2eb0ed13a/pathtools-0.1.2.tar.gz\n",
            "Collecting subprocess32>=3.5.3\n",
            "\u001b[?25l  Downloading https://files.pythonhosted.org/packages/32/c8/564be4d12629b912ea431f1a50eb8b3b9d00f1a0b1ceff17f266be190007/subprocess32-3.5.4.tar.gz (97kB)\n",
            "\u001b[K     |████████████████████████████████| 102kB 10.6MB/s \n",
            "\u001b[?25hRequirement already satisfied: PyYAML in /usr/local/lib/python3.7/dist-packages (from wandb) (3.13)\n",
            "Collecting sentry-sdk>=0.4.0\n",
            "\u001b[?25l  Downloading https://files.pythonhosted.org/packages/f3/92/5a33be64990ba815364a8f2dd9e6f51de60d23dfddafb4f1fc5577d4dc64/sentry_sdk-1.0.0-py2.py3-none-any.whl (131kB)\n",
            "\u001b[K     |████████████████████████████████| 133kB 44.6MB/s \n",
            "\u001b[?25hRequirement already satisfied: promise<3,>=2.0 in /usr/local/lib/python3.7/dist-packages (from wandb) (2.3)\n",
            "Collecting configparser>=3.8.1\n",
            "  Downloading https://files.pythonhosted.org/packages/fd/01/ff260a18caaf4457eb028c96eeb405c4a230ca06c8ec9c1379f813caa52e/configparser-5.0.2-py3-none-any.whl\n",
            "Requirement already satisfied: requests<3,>=2.0.0 in /usr/local/lib/python3.7/dist-packages (from wandb) (2.23.0)\n",
            "Collecting shortuuid>=0.5.0\n",
            "  Downloading https://files.pythonhosted.org/packages/25/a6/2ecc1daa6a304e7f1b216f0896b26156b78e7c38e1211e9b798b4716c53d/shortuuid-1.0.1-py3-none-any.whl\n",
            "Requirement already satisfied: psutil>=5.0.0 in /usr/local/lib/python3.7/dist-packages (from wandb) (5.4.8)\n",
            "Requirement already satisfied: protobuf>=3.12.0 in /usr/local/lib/python3.7/dist-packages (from wandb) (3.12.4)\n",
            "Requirement already satisfied: six>=1.13.0 in /usr/local/lib/python3.7/dist-packages (from wandb) (1.15.0)\n",
            "Collecting GitPython>=1.0.0\n",
            "\u001b[?25l  Downloading https://files.pythonhosted.org/packages/a6/99/98019716955ba243657daedd1de8f3a88ca1f5b75057c38e959db22fb87b/GitPython-3.1.14-py3-none-any.whl (159kB)\n",
            "\u001b[K     |████████████████████████████████| 163kB 45.5MB/s \n",
            "\u001b[?25hCollecting docker-pycreds>=0.4.0\n",
            "  Downloading https://files.pythonhosted.org/packages/f5/e8/f6bd1eee09314e7e6dee49cbe2c5e22314ccdb38db16c9fc72d2fa80d054/docker_pycreds-0.4.0-py2.py3-none-any.whl\n",
            "Requirement already satisfied: Click>=7.0 in /usr/local/lib/python3.7/dist-packages (from wandb) (7.1.2)\n",
            "Requirement already satisfied: urllib3>=1.10.0 in /usr/local/lib/python3.7/dist-packages (from sentry-sdk>=0.4.0->wandb) (1.24.3)\n",
            "Requirement already satisfied: certifi in /usr/local/lib/python3.7/dist-packages (from sentry-sdk>=0.4.0->wandb) (2020.12.5)\n",
            "Requirement already satisfied: chardet<4,>=3.0.2 in /usr/local/lib/python3.7/dist-packages (from requests<3,>=2.0.0->wandb) (3.0.4)\n",
            "Requirement already satisfied: idna<3,>=2.5 in /usr/local/lib/python3.7/dist-packages (from requests<3,>=2.0.0->wandb) (2.10)\n",
            "Requirement already satisfied: setuptools in /usr/local/lib/python3.7/dist-packages (from protobuf>=3.12.0->wandb) (56.0.0)\n",
            "Collecting gitdb<5,>=4.0.1\n",
            "\u001b[?25l  Downloading https://files.pythonhosted.org/packages/ea/e8/f414d1a4f0bbc668ed441f74f44c116d9816833a48bf81d22b697090dba8/gitdb-4.0.7-py3-none-any.whl (63kB)\n",
            "\u001b[K     |████████████████████████████████| 71kB 8.9MB/s \n",
            "\u001b[?25hCollecting smmap<5,>=3.0.1\n",
            "  Downloading https://files.pythonhosted.org/packages/68/ee/d540eb5e5996eb81c26ceffac6ee49041d473bc5125f2aa995cf51ec1cf1/smmap-4.0.0-py2.py3-none-any.whl\n",
            "Building wheels for collected packages: pathtools, subprocess32\n",
            "  Building wheel for pathtools (setup.py) ... \u001b[?25l\u001b[?25hdone\n",
            "  Created wheel for pathtools: filename=pathtools-0.1.2-cp37-none-any.whl size=8786 sha256=565cb79c0c7835e960b041b31dad2c6ac0a0be66d5b865cfc002b9cf765b9c29\n",
            "  Stored in directory: /root/.cache/pip/wheels/0b/04/79/c3b0c3a0266a3cb4376da31e5bfe8bba0c489246968a68e843\n",
            "  Building wheel for subprocess32 (setup.py) ... \u001b[?25l\u001b[?25hdone\n",
            "  Created wheel for subprocess32: filename=subprocess32-3.5.4-cp37-none-any.whl size=6489 sha256=8915476b5fefe053581eb33d65b9d155ba6ef586225a85c566952ed9e5739ae7\n",
            "  Stored in directory: /root/.cache/pip/wheels/68/39/1a/5e402bdfdf004af1786c8b853fd92f8c4a04f22aad179654d1\n",
            "Successfully built pathtools subprocess32\n",
            "Installing collected packages: pathtools, subprocess32, sentry-sdk, configparser, shortuuid, smmap, gitdb, GitPython, docker-pycreds, wandb\n",
            "Successfully installed GitPython-3.1.14 configparser-5.0.2 docker-pycreds-0.4.0 gitdb-4.0.7 pathtools-0.1.2 sentry-sdk-1.0.0 shortuuid-1.0.1 smmap-4.0.0 subprocess32-3.5.4 wandb-0.10.28\n"
          ],
          "name": "stdout"
        }
      ]
    },
    {
      "cell_type": "code",
      "metadata": {
        "id": "a44Gc64yExav",
        "colab": {
          "base_uri": "https://localhost:8080/"
        },
        "outputId": "a72f401c-24c9-496d-e94b-ade63263002e"
      },
      "source": [
        "cd swag/"
      ],
      "execution_count": 2,
      "outputs": [
        {
          "output_type": "stream",
          "text": [
            "/content/swag\n"
          ],
          "name": "stdout"
        }
      ]
    },
    {
      "cell_type": "code",
      "metadata": {
        "id": "XkLdVb9GEyuY",
        "colab": {
          "base_uri": "https://localhost:8080/"
        },
        "outputId": "cbb47095-6c0d-4e14-a68b-94392038f373"
      },
      "source": [
        "! git checkout janek_dev\n",
        "! git pull"
      ],
      "execution_count": 3,
      "outputs": [
        {
          "output_type": "stream",
          "text": [
            "Branch 'janek_dev' set up to track remote branch 'janek_dev' from 'origin'.\n",
            "Switched to a new branch 'janek_dev'\n",
            "Already up to date.\n"
          ],
          "name": "stdout"
        }
      ]
    },
    {
      "cell_type": "code",
      "metadata": {
        "id": "B0vBN8aEFhPV"
      },
      "source": [
        "import numpy as np\n",
        "from sklearn.metrics import accuracy_score\n",
        "import matplotlib.pyplot as plt\n",
        "from  src.utils.load_utils import download_checkpoint\n",
        "from tqdm.notebook import tqdm\n",
        "\n",
        "def get_preds(run_id, suffix=''):\n",
        "  download_checkpoint(run_id, f'predictions{suffix}.npy')\n",
        "  download_checkpoint(run_id, f'targets.npy')\n",
        "  predictions = np.load(f'predictions{suffix}.npy')\n",
        "  targets = np.load('targets.npy')\n",
        "  return predictions, targets"
      ],
      "execution_count": 4,
      "outputs": []
    },
    {
      "cell_type": "markdown",
      "metadata": {
        "id": "iujXcVPMeIz1"
      },
      "source": [
        "## Compare accuracies"
      ]
    },
    {
      "cell_type": "code",
      "metadata": {
        "id": "1o-wrURyqSsq"
      },
      "source": [
        "def get_acc_with_std(preds, targets, n_samples, n=100):\n",
        "  n = preds.shape[0]\n",
        "  accuracies = []\n",
        "  for i in range(n):\n",
        "    indices = np.random.choice(list(range(n)), size=n_samples, replace=False)\n",
        "    acc = accuracy_score(targets, preds[indices].mean(axis=0).argmax(axis=1))\n",
        "    accuracies.append(acc)\n",
        "  return np.mean(accuracies), np.std(accuracies), np.percentile(accuracies, 5), np.percentile(accuracies, 95)"
      ],
      "execution_count": 5,
      "outputs": []
    },
    {
      "cell_type": "markdown",
      "metadata": {
        "id": "P3cLb3nrIuQj"
      },
      "source": [
        "### CIFAR10"
      ]
    },
    {
      "cell_type": "code",
      "metadata": {
        "id": "8kIRGblAJPld"
      },
      "source": [
        "predictions, targets = get_preds('3rxjjlx1') # Ensemble CIFAR10\n",
        "acc_single = []\n",
        "acc_ensemble = []\n",
        "for i in range(predictions.shape[0]):\n",
        "  acc_single.append(accuracy_score(targets, predictions[-i-1].argmax(axis=1)))\n",
        "  acc_ensemble.append(accuracy_score(targets, predictions[-i-1:].mean(axis=0).argmax(axis=1)))\n",
        "acc_swa = []\n",
        "for i in range(2,26):\n",
        "  preds, _ = get_preds('8mvqdjc1', f'_k{i}') # SWA CIFAR10\n",
        "  acc_swa.append(accuracy_score(targets, preds.mean(axis=0).argmax(axis=1)))\n",
        "\n",
        "# SWAG\n",
        "acc_swag = []\n",
        "k_swag = [3, 5, 8, 10, 16]\n",
        "\n",
        "preds, _ = get_preds('2sjbgi3y') # SWAG 256, k=3\n",
        "acc, std, _ , _  = get_acc_with_std(preds, targets, n_samples=64)\n",
        "acc_swag.append(acc)\n",
        "\n",
        "preds, _ = get_preds('3vkd6gg2') # SWAG 256, k=5 (also 3mgr2rnt, different seed)\n",
        "acc, std, _ , _  = get_acc_with_std(preds, targets, n_samples=64)\n",
        "acc_swag.append(acc)\n",
        "\n",
        "preds, _ = get_preds('11t47era') # SWAG 256, k=8\n",
        "acc, std, _ , _  = get_acc_with_std(preds, targets, n_samples=64)\n",
        "acc_swag.append(acc)\n",
        "\n",
        "preds, _ = get_preds('1tc0el95') # SWAG 256, k=10\n",
        "acc, std, _ , _  = get_acc_with_std(preds, targets, n_samples=64)\n",
        "acc_swag.append(acc)\n",
        "\n",
        "preds, _ = get_preds('wu6eg434') # SWAG 128, k=16\n",
        "acc, std, _ , _  = get_acc_with_std(preds, targets, n_samples=64)\n",
        "acc_swag.append(acc)"
      ],
      "execution_count": 72,
      "outputs": []
    },
    {
      "cell_type": "code",
      "metadata": {
        "colab": {
          "base_uri": "https://localhost:8080/",
          "height": 225
        },
        "id": "hbrJYM3LJTnN",
        "outputId": "cb95f8c4-f9d7-40a1-e8e0-3bd1ba0e587a"
      },
      "source": [
        "# plt.figure(figsize=(10,6))\n",
        "plt.figure(figsize=(4.5,3))\n",
        "k = np.arange(1, predictions.shape[0] + 1)\n",
        "plt.plot(k, acc_single, 'k--', label='single checkpoint')\n",
        "plt.plot(k[1:26], acc_ensemble[1:26], 'y', label='ensemble')\n",
        "plt.plot(k[1:25], acc_swa, 'c', label='swa')\n",
        "plt.plot(k_swag, acc_swag, 'k.:', label='swag N=64')\n",
        "plt.xlabel('K last checkpoints')\n",
        "plt.ylabel('accuracy (CIFAR10)')\n",
        "plt.xticks([0,5,10,15,20,25])\n",
        "plt.legend()\n",
        "plt.tight_layout()"
      ],
      "execution_count": 78,
      "outputs": [
        {
          "output_type": "display_data",
          "data": {
            "image/png": "[encoded data removed]",
            "text/plain": [
              "<Figure size 324x216 with 1 Axes>"
            ]
          },
          "metadata": {
            "tags": [],
            "needs_background": "light"
          }
        }
      ]
    },
    {
      "cell_type": "code",
      "metadata": {
        "colab": {
          "base_uri": "https://localhost:8080/",
          "height": 66,
          "referenced_widgets": [
            "52909c44b2744a16817764e71c0dc039",
            "4a00a677e6524d2dafc851fb23fd2462",
            "619b49732c344a39ac2b35f5ba28dcfe",
            "6197c0be29a44d2195d852d25ed6e8cf",
            "bed0a7deea74409fbd5fd842d8c72d08",
            "76bb0d10170f43bb94f215064e7acde3",
            "f1fc45c449944fcfa62704de0217cec1",
            "d46424f0e80b400b814f7b983ff2b5dc"
          ]
        },
        "id": "WotlRiHnIpiW",
        "outputId": "3992f3af-403d-4862-b6ff-56291f96e23b"
      },
      "source": [
        "preds1, targets = get_preds('3vkd6gg2') # SWAG 256, k=5 \n",
        "preds2, _ = get_preds('3mgr2rnt') # SWAG 256, k=5 (different seed)\n",
        "preds = np.concatenate([preds1, preds2], axis=0)\n",
        "del preds1\n",
        "del preds2\n",
        "\n",
        "samples = []\n",
        "accuracies = []\n",
        "stds = []\n",
        "los = []\n",
        "his = []\n",
        "for i in tqdm([2,4,8,16,32,64,128,256,512]):\n",
        "  acc, std, lo5, hi5 = get_acc_with_std(preds, targets, n_samples=i, n=200)\n",
        "  accuracies.append(acc)\n",
        "  los.append(lo5)\n",
        "  his.append(hi5)\n",
        "  samples.append(i)"
      ],
      "execution_count": 79,
      "outputs": [
        {
          "output_type": "display_data",
          "data": {
            "application/vnd.jupyter.widget-view+json": {
              "model_id": "52909c44b2744a16817764e71c0dc039",
              "version_minor": 0,
              "version_major": 2
            },
            "text/plain": [
              "HBox(children=(FloatProgress(value=0.0, max=9.0), HTML(value='')))"
            ]
          },
          "metadata": {
            "tags": []
          }
        },
        {
          "output_type": "stream",
          "text": [
            "\n"
          ],
          "name": "stdout"
        }
      ]
    },
    {
      "cell_type": "code",
      "metadata": {
        "colab": {
          "base_uri": "https://localhost:8080/",
          "height": 225
        },
        "id": "HGc45J2_JtBv",
        "outputId": "800b5207-fb42-4907-90ba-257cf3e2392c"
      },
      "source": [
        "plt.figure(figsize=(4,3))\n",
        "plt.plot(samples, accuracies, 'ko:',label='swag k=5')\n",
        "\n",
        "# omit last few because sampling without replacement from total of 512\n",
        "# TODO: ask if this is ok?\n",
        "plt.plot(samples[:-3], los[:-3], 'k_', label='5th percentile')\n",
        "plt.plot(samples[:-3], his[:-3], 'k_', label='95th percentile')\n",
        "\n",
        "plt.xlabel('N samples')\n",
        "plt.ylabel('accuracy (CIFAR10)')\n",
        "plt.legend()\n",
        "plt.xscale('log')\n",
        "plt.xticks([2,4,8,16,32,64,128,256,512], [2,4,8,16,32,64,128,256,512]);\n",
        "plt.tight_layout()"
      ],
      "execution_count": 80,
      "outputs": [
        {
          "output_type": "display_data",
          "data": {
            "image/png": "[encoded data removed]",
            "text/plain": [
              "<Figure size 288x216 with 1 Axes>"
            ]
          },
          "metadata": {
            "tags": [],
            "needs_background": "light"
          }
        }
      ]
    },
    {
      "cell_type": "markdown",
      "metadata": {
        "id": "18SxVeCbIq1q"
      },
      "source": [
        "### CIFAR100"
      ]
    },
    {
      "cell_type": "code",
      "metadata": {
        "id": "Xx2m8fvbgdO6",
        "colab": {
          "base_uri": "https://localhost:8080/",
          "height": 51
        },
        "outputId": "c0c07543-b2e6-4f15-9bc3-3b4f4e32970f"
      },
      "source": [
        "predictions, targets = get_preds('6rur0243') # Ensemble CIFAR100\n",
        "acc_single = []\n",
        "acc_ensemble = []\n",
        "for i in range(predictions.shape[0]):\n",
        "  acc_single.append(accuracy_score(targets, predictions[-i-1].argmax(axis=1)))\n",
        "  acc_ensemble.append(accuracy_score(targets, predictions[-i-1:].mean(axis=0).argmax(axis=1)))\n",
        "acc_swa = []\n",
        "for i in range(2,22):\n",
        "  preds, _  = get_preds('373xmyi4', f'_k{i}') # SWA CIFAR100\n",
        "  acc_swa.append(accuracy_score(targets, preds.mean(axis=0).argmax(axis=1)))"
      ],
      "execution_count": 11,
      "outputs": [
        {
          "output_type": "display_data",
          "data": {
            "application/javascript": [
              "\n",
              "        window._wandbApiKey = new Promise((resolve, reject) => {\n",
              "            function loadScript(url) {\n",
              "            return new Promise(function(resolve, reject) {\n",
              "                let newScript = document.createElement(\"script\");\n",
              "                newScript.onerror = reject;\n",
              "                newScript.onload = resolve;\n",
              "                document.body.appendChild(newScript);\n",
              "                newScript.src = url;\n",
              "            });\n",
              "            }\n",
              "            loadScript(\"https://cdn.jsdelivr.net/npm/postmate/build/postmate.min.js\").then(() => {\n",
              "            const iframe = document.createElement('iframe')\n",
              "            iframe.style.cssText = \"width:0;height:0;border:none\"\n",
              "            document.body.appendChild(iframe)\n",
              "            const handshake = new Postmate({\n",
              "                container: iframe,\n",
              "                url: 'https://wandb.ai/authorize'\n",
              "            });\n",
              "            const timeout = setTimeout(() => reject(\"Couldn't auto authenticate\"), 5000)\n",
              "            handshake.then(function(child) {\n",
              "                child.on('authorize', data => {\n",
              "                    clearTimeout(timeout)\n",
              "                    resolve(data)\n",
              "                });\n",
              "            });\n",
              "            })\n",
              "        });\n",
              "    "
            ],
            "text/plain": [
              "<IPython.core.display.Javascript object>"
            ]
          },
          "metadata": {
            "tags": []
          }
        },
        {
          "output_type": "stream",
          "text": [
            "\u001b[34m\u001b[1mwandb\u001b[0m: Appending key for api.wandb.ai to your netrc file: /root/.netrc\n"
          ],
          "name": "stderr"
        }
      ]
    },
    {
      "cell_type": "code",
      "metadata": {
        "colab": {
          "base_uri": "https://localhost:8080/"
        },
        "id": "45VyUvfOjQkS",
        "outputId": "3521a94e-447c-4260-bccc-01af72ceee56"
      },
      "source": [
        "swag_k = [2,3,4,5,6,7,8,9,10,16]\n",
        "acc_swag64 = []\n",
        "\n",
        "for i in range(2,5):\n",
        "  preds, _ = get_preds('3l03q84b', f'_k{i}') # SWAG CIFAR100 K = {2,3,4}\n",
        "  acc_swag64.append(accuracy_score(targets, preds.mean(axis=0).argmax(axis=1)))\n",
        "\n",
        "\n",
        "preds, _ = get_preds('1l1zic13', '_k5') # SWAG CIFAR100 K=5\n",
        "acc_swag64.append(accuracy_score(targets, preds.mean(axis=0).argmax(axis=1)))\n",
        "\n",
        "for i in range(6,10):\n",
        "  preds, _ = get_preds('d6790168', f'_k{i}') # SWAG CIFAR100 K= {6 - 9}\n",
        "  acc_swag64.append(accuracy_score(targets, preds.mean(axis=0).argmax(axis=1)))\n",
        "\n",
        "preds, _ = get_preds('3nmg5cky') # SWAG, K=10 (128)\n",
        "print(accuracy_score(targets, preds.mean(axis=0).argmax(axis=1)))\n",
        "acc, std, _ , _  = get_acc_with_std(preds, targets, n_samples=64)\n",
        "acc_swag64.append(acc)\n",
        "\n",
        "preds, _ = get_preds('36ykfzm1') # SWAG, K=16 (64)\n",
        "acc_swag64.append(accuracy_score(targets, preds.mean(axis=0).argmax(axis=1)))\n",
        "acc, std, _ , _  = get_acc_with_std(preds, targets, n_samples=16)"
      ],
      "execution_count": 12,
      "outputs": [
        {
          "output_type": "stream",
          "text": [
            "0.6835\n"
          ],
          "name": "stdout"
        }
      ]
    },
    {
      "cell_type": "code",
      "metadata": {
        "colab": {
          "base_uri": "https://localhost:8080/",
          "height": 329
        },
        "id": "HGV55_ZzP29S",
        "outputId": "30e9339a-eb4c-44fe-d8d3-66e5162bf9a6"
      },
      "source": [
        "# plt.figure(figsize=(10,6))\n",
        "plt.figure(figsize=(4.5,3))\n",
        "k = np.arange(1, predictions.shape[0] + 1)\n",
        "plt.plot(k, acc_single, 'k--', label='single checkpoint')\n",
        "plt.plot(k, acc_ensemble, 'y', label='ensemble')\n",
        "plt.plot(k[1:21], acc_swa, 'c', label='swa')\n",
        "plt.plot(swag_k, acc_swag64, 'k.:', label='swag N=64')\n",
        "plt.xlabel('K last checkpoints')\n",
        "plt.ylabel('accuracy (CIFAR100)')\n",
        "plt.legend()\n",
        "plt.xticks([0,5,10,15,20])"
      ],
      "execution_count": 17,
      "outputs": [
        {
          "output_type": "execute_result",
          "data": {
            "text/plain": [
              "([<matplotlib.axis.XTick at 0x7f983d400a90>,\n",
              "  <matplotlib.axis.XTick at 0x7f983d30fa10>,\n",
              "  <matplotlib.axis.XTick at 0x7f983d30f5d0>,\n",
              "  <matplotlib.axis.XTick at 0x7f983d2cf3d0>,\n",
              "  <matplotlib.axis.XTick at 0x7f983d2cf910>],\n",
              " <a list of 5 Text major ticklabel objects>)"
            ]
          },
          "metadata": {
            "tags": []
          },
          "execution_count": 17
        },
        {
          "output_type": "display_data",
          "data": {
            "image/png": "[encoded data removed]",
            "text/plain": [
              "<Figure size 324x216 with 1 Axes>"
            ]
          },
          "metadata": {
            "tags": [],
            "needs_background": "light"
          }
        }
      ]
    },
    {
      "cell_type": "code",
      "metadata": {
        "colab": {
          "base_uri": "https://localhost:8080/",
          "height": 66,
          "referenced_widgets": [
            "b720f87338614d83815a837dc0570c9f",
            "88bedb239fcf4007b48fb0dd2606c10e",
            "585c58c1663349f09f1cee63e8e7c3be",
            "254ba06facff4acfa62fda25caa74763",
            "a8a2cbaf52b145b5a42cbe9a5e228605",
            "8c59ac03048b43838211dc806d4f4fb8",
            "81906c27eab54fdd97a4fdb52d968ab0",
            "61aaca49bc824b75b3d90c43e4cb14e4"
          ]
        },
        "id": "qEftp6yjMSU0",
        "outputId": "a9bc649c-e597-4444-a773-a7992d383b33"
      },
      "source": [
        "preds1, targets = get_preds('f68xa8fk') # SWAG 256, k=5 \n",
        "preds2, _ = get_preds('65r3pymj') # SWAG 256, k=5 (different seed)\n",
        "preds = np.concatenate([preds1, preds2], axis=0)\n",
        "del preds1\n",
        "del preds2\n",
        "\n",
        "samples = []\n",
        "accuracies = []\n",
        "stds = []\n",
        "los = []\n",
        "his = []\n",
        "for i in tqdm([2,4,8,16,32,64,128,256,512]):\n",
        "  acc, std, lo5, hi5 = get_acc_with_std(preds, targets, n_samples=i, n=200)\n",
        "  accuracies.append(acc)\n",
        "  los.append(lo5)\n",
        "  his.append(hi5)\n",
        "  samples.append(i)"
      ],
      "execution_count": 14,
      "outputs": [
        {
          "output_type": "display_data",
          "data": {
            "application/vnd.jupyter.widget-view+json": {
              "model_id": "b720f87338614d83815a837dc0570c9f",
              "version_major": 2,
              "version_minor": 0
            },
            "text/plain": [
              "HBox(children=(FloatProgress(value=0.0, max=9.0), HTML(value='')))"
            ]
          },
          "metadata": {
            "tags": []
          }
        },
        {
          "output_type": "stream",
          "text": [
            "\n"
          ],
          "name": "stdout"
        }
      ]
    },
    {
      "cell_type": "code",
      "metadata": {
        "colab": {
          "base_uri": "https://localhost:8080/",
          "height": 225
        },
        "id": "61rVAciVMS0q",
        "outputId": "8c005a38-33d8-457d-ba55-4dde49a917c2"
      },
      "source": [
        "plt.figure(figsize=(4,3))\n",
        "plt.plot(samples, accuracies, 'ko:',label='swag k=5')\n",
        "\n",
        "# omit last few because sampling without replacement from total of 512\n",
        "# TODO: ask if this is ok?\n",
        "plt.plot(samples[:-3], los[:-3], 'k_', label='5th percentile')\n",
        "plt.plot(samples[:-3], his[:-3], 'k_', label='95th percentile')\n",
        "\n",
        "plt.xlabel('N samples')\n",
        "plt.ylabel('accuracy (CIFAR100)')\n",
        "plt.legend()\n",
        "plt.xscale('log')\n",
        "plt.xticks([2,4,8,16,32,64,128,256,512], [2,4,8,16,32,64,128,256,512]);"
      ],
      "execution_count": 15,
      "outputs": [
        {
          "output_type": "display_data",
          "data": {
            "image/png": "[encoded data removed]",
            "text/plain": [
              "<Figure size 288x216 with 1 Axes>"
            ]
          },
          "metadata": {
            "tags": [],
            "needs_background": "light"
          }
        }
      ]
    },
    {
      "cell_type": "markdown",
      "metadata": {
        "id": "RfJ7ip7xeVB3"
      },
      "source": [
        "## Plot calibration curves"
      ]
    },
    {
      "cell_type": "markdown",
      "metadata": {
        "id": "0I684N3E1e1E"
      },
      "source": [
        "### CIFAR10"
      ]
    },
    {
      "cell_type": "code",
      "metadata": {
        "id": "mGLhWIRPg1th"
      },
      "source": [
        "from sklearn.calibration import calibration_curve\n",
        "import matplotlib\n",
        "\n",
        "def plot_calibration_curve(probabilities, targets, label=None, line=':.'):\n",
        "  max_probs = probabilities.max(axis=1)\n",
        "  correct = probabilities.argmax(axis=1) == targets\n",
        "  \n",
        "  # scale the x axis to get nice spacing\n",
        "  xscale_fn = lambda x: -np.log10(1-x*0.999)\n",
        "  tick_labels = np.array([0.2, 0.7, 0.9, 0.97, 0.99, 0.996, 0.999])\n",
        "  # tick_labels = (1-np.power(10, - np.linspace(0.1,3,10)))/0.999\n",
        "  tick_placement = xscale_fn(tick_labels)\n",
        "  # plt.xticks(tick_placement, np.round(tick_labels,3))\n",
        "  plt.xticks(tick_placement, tick_labels)\n",
        "\n",
        "  # plot reference at 0\n",
        "  plt.plot(xscale_fn(np.array([0, 1])), [0, 0], \"k--\")\n",
        "\n",
        "  # calibration curve\n",
        "  prob_true, prob_pred = calibration_curve(correct, max_probs, n_bins=20, strategy='quantile')\n",
        "  plt.plot(xscale_fn(prob_pred), prob_pred - prob_true, line, label=label)\n",
        "  \n",
        "  plt.ylabel('Confidence - Accuracy')\n",
        "  plt.xlabel('Confidence')"
      ],
      "execution_count": null,
      "outputs": []
    },
    {
      "cell_type": "code",
      "metadata": {
        "id": "7xIrVpwDe1SL"
      },
      "source": [
        "predictions, targets = get_preds('3rxjjlx1') # Ensemble CIFAR10\n",
        "swa_20, _ = get_preds('8mvqdjc1', f'_k20') # SWA 20\n",
        "\n",
        "# SWAG\n",
        "preds1, _ = get_preds('3vkd6gg2') # SWAG 256, k=5 \n",
        "preds2, _ = get_preds('3mgr2rnt') # SWAG 256, k=5 (different seed)\n",
        "swag_5 = np.concatenate([preds1, preds2], axis=0)\n",
        "del preds1\n",
        "del preds2\n",
        "swag_8, _ = get_preds('11t47era') # SWAG 128, k=8\n",
        "swag_16, _ = get_preds('wu6eg434') # SWAG 128, k=16\n",
        "\n",
        "single = predictions[-1]\n",
        "# ensemble_2 = predictions[-2:].mean(axis=0)\n",
        "ensemble_5 = predictions[-5:].mean(axis=0)\n",
        "ensemble_8 = predictions[-8:].mean(axis=0)\n",
        "ensemble_16 = predictions[-16:].mean(axis=0)"
      ],
      "execution_count": null,
      "outputs": []
    },
    {
      "cell_type": "code",
      "metadata": {
        "colab": {
          "base_uri": "https://localhost:8080/",
          "height": 312
        },
        "id": "KHQHJEKXfIFw",
        "outputId": "6b644c46-c5f0-43d1-949e-33a8991554ff"
      },
      "source": [
        "# plt.figure(figsize=(12,12))\n",
        "plt.figure(figsize=(6,4))\n",
        "plot_calibration_curve(single, targets, label='SGD', line='k.--')\n",
        "plot_calibration_curve(swa_20[0], targets, label='SWA k=20', line='c:.')\n",
        "plot_calibration_curve(ensemble_5, targets, label='ensemble k=5', line='r:.')\n",
        "# plot_calibration_curve(ensemble_8, targets, label='ensemble k=8', line=':.')\n",
        "plot_calibration_curve(ensemble_16, targets, label='ensemble k=16', line='g:.')\n",
        "plot_calibration_curve(swag_5.mean(axis=0), targets, label='swag k=5 (512)', line='rd-')\n",
        "# plot_calibration_curve(swag_5[:32].mean(axis=0), targets, label='swag k=5 (32)', line='d-.')\n",
        "# plot_calibration_curve(swag_5[:128].mean(axis=0), targets, label='swag k=5 (128)', line='d-.')\n",
        "plot_calibration_curve(swag_16.mean(axis=0), targets, label='swag k=16 (128)', line='gd-')\n",
        "# plot_calibration_curve(swag_8.mean(axis=0), targets, label='swag k=8 (128)', line='d-.')\n",
        "plt.legend()\n",
        "plt.xlim((0.25, -np.log10(1-0.9991)))\n",
        "plt.title('Calibration curve (VGG16 on CIFAR10)')"
      ],
      "execution_count": null,
      "outputs": [
        {
          "output_type": "execute_result",
          "data": {
            "text/plain": [
              "Text(0.5, 1.0, 'Calibration curve (VGG16 on CIFAR10)')"
            ]
          },
          "metadata": {
            "tags": []
          },
          "execution_count": 58
        },
        {
          "output_type": "display_data",
          "data": {
            "image/png": "[encoded data removed]",
            "text/plain": [
              "<Figure size 432x288 with 1 Axes>"
            ]
          },
          "metadata": {
            "tags": [],
            "needs_background": "light"
          }
        }
      ]
    },
    {
      "cell_type": "markdown",
      "metadata": {
        "id": "A6vbgu7l1hzU"
      },
      "source": [
        "### CIFAR100"
      ]
    },
    {
      "cell_type": "code",
      "metadata": {
        "id": "Tf_8xzuifJcy"
      },
      "source": [
        "predictions, targets = get_preds('6rur0243') # Ensemble CIFAR100\n",
        "swa_20, _ = get_preds('373xmyi4', f'_k20') # SWA 20\n",
        "single = predictions[-1]\n",
        "ensemble_2 = predictions[-2:].mean(axis=0)\n",
        "ensemble_5 = predictions[-5:].mean(axis=0)\n",
        "ensemble_8 = predictions[-8:].mean(axis=0)\n",
        "ensemble_16 = predictions[-16:].mean(axis=0)\n",
        "ensemble_20 = predictions[-20:].mean(axis=0)\n",
        "\n",
        "\n",
        "# SWAG\n",
        "preds1, _ = get_preds('f68xa8fk') # SWAG 256, k=5 \n",
        "preds2, _ = get_preds('65r3pymj') # SWAG 256, k=5 (different seed)\n",
        "swag_5 = np.concatenate([preds1, preds2], axis=0)\n",
        "del preds1\n",
        "del preds2\n",
        "swag_8, _ = get_preds('d6790168', f'_k8') # SWAG 64, k=8\n",
        "swag_16, _ = get_preds('36ykfzm1') # SWAG 128, k=16"
      ],
      "execution_count": null,
      "outputs": []
    },
    {
      "cell_type": "code",
      "metadata": {
        "colab": {
          "base_uri": "https://localhost:8080/",
          "height": 312
        },
        "id": "WaNQVbIpgxkm",
        "outputId": "1014d3fb-8593-44ab-f863-cf62df319eaa"
      },
      "source": [
        "# plt.figure(figsize=(12,12))\n",
        "plt.figure(figsize=(6,4))\n",
        "plot_calibration_curve(single, targets, label='SGD', line='k.--')\n",
        "plot_calibration_curve(swa_20[0], targets, label='SWA k=20', line='c:.')\n",
        "plot_calibration_curve(ensemble_5, targets, label='ensemble k=5', line='r:.')\n",
        "# plot_calibration_curve(ensemble_8, targets, label='ensemble k=8', line='b:.')\n",
        "plot_calibration_curve(ensemble_16, targets, label='ensemble k=16', line='g:.')\n",
        "plot_calibration_curve(swag_5.mean(axis=0), targets, label='swag k=5 (512)', line='rd-')\n",
        "# plot_calibration_curve(swag_5[:32].mean(axis=0), targets, label='swag k=5 (32)', line='rd-')\n",
        "# plot_calibration_curve(swag_5[:128].mean(axis=0), targets, label='swag k=5 (128)', line='d-.')\n",
        "plot_calibration_curve(swag_16.mean(axis=0), targets, label='swag k=16 (128)', line='gd-')\n",
        "# plot_calibration_curve(swag_8.mean(axis=0), targets, label='swag k=8 (128)', line='bd-')\n",
        "plt.legend()\n",
        "plt.xlim((0.25, -np.log10(1-0.9991)))\n",
        "plt.legend()\n",
        "plt.title('Calibration curve (VGG16 on CIFAR100)')"
      ],
      "execution_count": null,
      "outputs": [
        {
          "output_type": "execute_result",
          "data": {
            "text/plain": [
              "Text(0.5, 1.0, 'Calibration curve (VGG16 on CIFAR100)')"
            ]
          },
          "metadata": {
            "tags": []
          },
          "execution_count": 55
        },
        {
          "output_type": "display_data",
          "data": {
            "image/png": "[encoded data removed]",
            "text/plain": [
              "<Figure size 432x288 with 1 Axes>"
            ]
          },
          "metadata": {
            "tags": [],
            "needs_background": "light"
          }
        }
      ]
    },
    {
      "cell_type": "markdown",
      "metadata": {
        "id": "HbYh4qyPaT4F"
      },
      "source": [
        "# Confidence on OOD samples"
      ]
    },
    {
      "cell_type": "code",
      "metadata": {
        "id": "VtvH-zvyg9RM"
      },
      "source": [
        "import seaborn as sns\n",
        "\n",
        "def plot_prob_distributions(predictions, ax=None):\n",
        "  for label, probs in predictions:\n",
        "    sns.distplot(probs.max(axis=1), kde=False, norm_hist=True, label=label, bins=np.linspace(0,1, 50), ax=ax)\n",
        "  # plt.legend()"
      ],
      "execution_count": 6,
      "outputs": []
    },
    {
      "cell_type": "code",
      "metadata": {
        "id": "tsOLtqDcaTqU",
        "colab": {
          "base_uri": "https://localhost:8080/",
          "height": 51
        },
        "outputId": "1a66ce6e-2e4a-4633-872d-d80c9c5d572c"
      },
      "source": [
        "predictions, t100 = get_preds('6rur0243') # Ensemble CIFAR100 on CIFAR100\n",
        "predictions_svhn, _ = get_preds('zo487s5s') # Ensemble CIFAR100 on SVHN\n",
        "predictions_n, _ = get_preds('16w8wx06') # Ensemble CIFAR100 on noise\n",
        "\n",
        "predictions10, t10 = get_preds('3rxjjlx1') # Ensemble CIFAR10 on CIFAR10\n",
        "predictions10_svhn, _ = get_preds('vyoc1t1f') # Ensemble CIFAR10 on SVHN\n",
        "predictions10_n, _ = get_preds('3brh34y2') # Ensemble CIFAR10 on noise\n",
        "\n",
        "swag = get_preds('1v32yl0c')[0].mean(axis=0) # SWAG k=8 (128) CIFAR100 on CIFAR100\n",
        "p1 = get_preds('2n2a361m')[0] # SWAG k=8 (64 + 64) CIFAR100 on SVHN\n",
        "p2 = get_preds('4q338z8o')[0]\n",
        "swag_svhn = np.concatenate([p1,p2], axis=0).mean(axis=0)\n",
        "swag_n = get_preds('1hxim8dr')[0].mean(axis=0) # SWAG k=8 (128) CIFAR100 on noise\n",
        "\n",
        "swag10 = get_preds('11t47era')[0].mean(axis=0) # SWAG k=8 (128) CIFAR10 on CIFAR10\n",
        "swag10_svhn = get_preds('2tk9zcgt')[0].mean(axis=0) # SWAG k=8 (128) CIFAR10 on SVHN\n",
        "swag10_n = get_preds('yp7nmltk')[0].mean(axis=0) # SWAG k=8 (128) CIFAR10 on noise"
      ],
      "execution_count": 7,
      "outputs": [
        {
          "output_type": "display_data",
          "data": {
            "application/javascript": [
              "\n",
              "        window._wandbApiKey = new Promise((resolve, reject) => {\n",
              "            function loadScript(url) {\n",
              "            return new Promise(function(resolve, reject) {\n",
              "                let newScript = document.createElement(\"script\");\n",
              "                newScript.onerror = reject;\n",
              "                newScript.onload = resolve;\n",
              "                document.body.appendChild(newScript);\n",
              "                newScript.src = url;\n",
              "            });\n",
              "            }\n",
              "            loadScript(\"https://cdn.jsdelivr.net/npm/postmate/build/postmate.min.js\").then(() => {\n",
              "            const iframe = document.createElement('iframe')\n",
              "            iframe.style.cssText = \"width:0;height:0;border:none\"\n",
              "            document.body.appendChild(iframe)\n",
              "            const handshake = new Postmate({\n",
              "                container: iframe,\n",
              "                url: 'https://wandb.ai/authorize'\n",
              "            });\n",
              "            const timeout = setTimeout(() => reject(\"Couldn't auto authenticate\"), 5000)\n",
              "            handshake.then(function(child) {\n",
              "                child.on('authorize', data => {\n",
              "                    clearTimeout(timeout)\n",
              "                    resolve(data)\n",
              "                });\n",
              "            });\n",
              "            })\n",
              "        });\n",
              "    "
            ],
            "text/plain": [
              "<IPython.core.display.Javascript object>"
            ]
          },
          "metadata": {
            "tags": []
          }
        },
        {
          "output_type": "stream",
          "text": [
            "\u001b[34m\u001b[1mwandb\u001b[0m: Appending key for api.wandb.ai to your netrc file: /root/.netrc\n"
          ],
          "name": "stderr"
        }
      ]
    },
    {
      "cell_type": "code",
      "metadata": {
        "id": "ekfZng4lcwGZ"
      },
      "source": [
        "# CIFAR100\n",
        "single = predictions[-1]\n",
        "ensemble_2 = predictions[-2:].mean(axis=0)\n",
        "ensemble_8 = predictions[-8:].mean(axis=0)\n",
        "ensemble_20 = predictions[-20:].mean(axis=0)\n",
        "\n",
        "single_svhn = predictions_svhn[-1]\n",
        "ensemble_2_svhn = predictions_svhn[-2:].mean(axis=0)\n",
        "ensemble_8_svhn = predictions_svhn[-8:].mean(axis=0)\n",
        "ensemble_20_svhn = predictions_svhn[-20:].mean(axis=0)\n",
        "\n",
        "single_n = predictions_n[-1]\n",
        "ensemble_2_n = predictions_n[-2:].mean(axis=0)\n",
        "ensemble_8_n = predictions_n[-8:].mean(axis=0)\n",
        "ensemble_20_n = predictions_n[-20:].mean(axis=0)\n",
        "\n",
        "# CIFAR10\n",
        "single10 = predictions10[-1]\n",
        "ensemble10_2 = predictions10[-2:].mean(axis=0)\n",
        "ensemble10_8 = predictions10[-8:].mean(axis=0)\n",
        "ensemble10_20 = predictions10[-20:].mean(axis=0)\n",
        "\n",
        "single10_svhn = predictions10_svhn[-1]\n",
        "ensemble10_2_svhn = predictions10_svhn[-2:].mean(axis=0)\n",
        "ensemble10_8_svhn = predictions10_svhn[-8:].mean(axis=0)\n",
        "ensemble10_20_svhn = predictions10_svhn[-20:].mean(axis=0)\n",
        "\n",
        "single10_n = predictions10_n[-1]\n",
        "ensemble10_2_n = predictions10_n[-2:].mean(axis=0)\n",
        "ensemble10_8_n = predictions10_n[-8:].mean(axis=0)\n",
        "ensemble10_20_n = predictions10_n[-20:].mean(axis=0)"
      ],
      "execution_count": 9,
      "outputs": []
    },
    {
      "cell_type": "code",
      "metadata": {
        "id": "lT39-ShXEwo2"
      },
      "source": [
        "single_mask = np.argmax(single, axis=1) == t100\n",
        "ensemble_2_mask = np.argmax(ensemble_2, axis=1) == t100\n",
        "ensemble_10_mask = np.argmax(ensemble_10, axis=1) == t100\n",
        "ensemble_20_mask = np.argmax(ensemble_20, axis=1) == t100\n",
        "swag_mask = np.argmax(swag, axis=1) == t100\n",
        "mask = single_mask & ensemble_20_mask & swag_mask\n",
        "\n",
        "single10_mask = np.argmax(single10, axis=1) == t10\n",
        "ensemble10_2_mask = np.argmax(ensemble10_2, axis=1) == t10\n",
        "ensemble10_10_mask = np.argmax(ensemble10_10, axis=1) == t10\n",
        "ensemble10_20_mask = np.argmax(ensemble10_20, axis=1) == t10\n",
        "swag10_mask = np.argmax(swag10, axis=1) == t10\n",
        "mask = single10_mask & ensemble10_20_mask & swag10_mask"
      ],
      "execution_count": 31,
      "outputs": []
    },
    {
      "cell_type": "markdown",
      "metadata": {
        "id": "fZqZPDUueFTj"
      },
      "source": [
        "### plot confidence distributions (for the maximum probability)\n"
      ]
    },
    {
      "cell_type": "code",
      "metadata": {
        "colab": {
          "base_uri": "https://localhost:8080/",
          "height": 420
        },
        "id": "Ohca_unEc6bO",
        "outputId": "9056dd52-d412-4675-9dc8-4f711de0f28c"
      },
      "source": [
        "plt.figure(figsize=(7,3))\n",
        "fig, (ax1,ax2, ax3) = plt.subplots(ncols=3, sharey=True) # frameon=False removes frames\n",
        "\n",
        "# plt.subplot(1,3,1)\n",
        "ax1.set_title('single model')\n",
        "plot_prob_distributions([('CIFAR100', single), ('SVHN (OOD)', single_svhn), ('Gaussian (OOD)', single_n)], ax=ax1)\n",
        "# plt.ylim((0,26))\n",
        "# plt.subplot(1,3,2)\n",
        "ax2.set_title('ensemble k=20')\n",
        "plot_prob_distributions([('CIFAR100', ensemble_20), ('SVHN (OOD)', ensemble_20_svhn), ('Gaussian (OOD)', ensemble_20_n)], ax=ax2)\n",
        "\n",
        "# plt.ylim((0,26))\n",
        "# plt.subplot(1,3,3)\n",
        "ax3.set_title('swag k=8')\n",
        "plot_prob_distributions([('CIFAR100', swag), \n",
        "                         ('SVHN (OOD)', swag_svhn), \n",
        "                         ('Gaussian (OOD)', swag_n)], ax=ax3)\n",
        "ax3.legend()\n",
        "\n",
        "# plt.tight_layout()\n",
        "plt.subplots_adjust(wspace=.0)\n",
        "ax1.set_xticks([0,1])\n",
        "ax1.set_xticks([0.5],True)\n",
        "ax2.set_xticks([0,1])\n",
        "ax2.set_xticks([0.5],True)\n",
        "ax3.set_xticks([0,1])\n",
        "ax3.set_xticks([0.5],True)\n",
        "# plt.ylim((0,26))\n",
        "# plt.yscale('log')"
      ],
      "execution_count": 65,
      "outputs": [
        {
          "output_type": "stream",
          "text": [
            "/usr/local/lib/python3.7/dist-packages/seaborn/distributions.py:2557: FutureWarning: `distplot` is a deprecated function and will be removed in a future version. Please adapt your code to use either `displot` (a figure-level function with similar flexibility) or `histplot` (an axes-level function for histograms).\n",
            "  warnings.warn(msg, FutureWarning)\n",
            "/usr/local/lib/python3.7/dist-packages/ipykernel_launcher.py:23: MatplotlibDeprecationWarning: Passing the minor parameter of set_xticks() positionally is deprecated since Matplotlib 3.2; the parameter will become keyword-only two minor releases later.\n",
            "/usr/local/lib/python3.7/dist-packages/ipykernel_launcher.py:25: MatplotlibDeprecationWarning: Passing the minor parameter of set_xticks() positionally is deprecated since Matplotlib 3.2; the parameter will become keyword-only two minor releases later.\n",
            "/usr/local/lib/python3.7/dist-packages/ipykernel_launcher.py:27: MatplotlibDeprecationWarning: Passing the minor parameter of set_xticks() positionally is deprecated since Matplotlib 3.2; the parameter will become keyword-only two minor releases later.\n"
          ],
          "name": "stderr"
        },
        {
          "output_type": "execute_result",
          "data": {
            "text/plain": [
              "[<matplotlib.axis.XTick at 0x7f6ab78dde10>]"
            ]
          },
          "metadata": {
            "tags": []
          },
          "execution_count": 65
        },
        {
          "output_type": "display_data",
          "data": {
            "text/plain": [
              "<Figure size 504x216 with 0 Axes>"
            ]
          },
          "metadata": {
            "tags": []
          }
        },
        {
          "output_type": "display_data",
          "data": {
            "image/png": "[encoded data removed]",
            "text/plain": [
              "<Figure size 432x288 with 3 Axes>"
            ]
          },
          "metadata": {
            "tags": [],
            "needs_background": "light"
          }
        }
      ]
    },
    {
      "cell_type": "code",
      "metadata": {
        "colab": {
          "base_uri": "https://localhost:8080/",
          "height": 407
        },
        "id": "3p9C1vKO5Wfl",
        "outputId": "e86a0623-e44a-45e5-b520-79913c0430ac"
      },
      "source": [
        "plt.figure(figsize=(10,5))\n",
        "plt.subplot(1,3,1)\n",
        "plt.title('single model')\n",
        "plot_prob_distributions([('CIFAR10', single10), ('SVHN (OOD)', single10_svhn), ('Gaussian (OOD)', single10_n)])\n",
        "plt.ylim((0,45))\n",
        "plt.subplot(1,3,2)\n",
        "plt.title('ensemble k=20')\n",
        "plot_prob_distributions([('CIFAR10', ensemble10_20), ('SVHN (OOD)', ensemble10_20_svhn), ('Gaussian (OOD)', ensemble10_20_n)])\n",
        "plt.ylim((0,45))\n",
        "plt.subplot(1,3,3)\n",
        "plt.title('swag k=8')\n",
        "plot_prob_distributions([('CIFAR10', swag10), \n",
        "                         ('SVHN (OOD)', swag10_svhn), \n",
        "                         ('Gaussian (OOD)', swag10_n)])\n",
        "plt.ylim((0,45))\n"
      ],
      "execution_count": 13,
      "outputs": [
        {
          "output_type": "stream",
          "text": [
            "/usr/local/lib/python3.7/dist-packages/seaborn/distributions.py:2557: FutureWarning: `distplot` is a deprecated function and will be removed in a future version. Please adapt your code to use either `displot` (a figure-level function with similar flexibility) or `histplot` (an axes-level function for histograms).\n",
            "  warnings.warn(msg, FutureWarning)\n"
          ],
          "name": "stderr"
        },
        {
          "output_type": "execute_result",
          "data": {
            "text/plain": [
              "(0.0, 45.0)"
            ]
          },
          "metadata": {
            "tags": []
          },
          "execution_count": 13
        },
        {
          "output_type": "display_data",
          "data": {
            "image/png": "[encoded data removed]",
            "text/plain": [
              "<Figure size 720x360 with 3 Axes>"
            ]
          },
          "metadata": {
            "tags": [],
            "needs_background": "light"
          }
        }
      ]
    },
    {
      "cell_type": "markdown",
      "metadata": {
        "id": "-BPpEXNXeSEY"
      },
      "source": [
        "## Entropy for in and out of domain"
      ]
    },
    {
      "cell_type": "code",
      "metadata": {
        "id": "LCn9F2Nwe7w_"
      },
      "source": [
        "from scipy.stats import entropy"
      ],
      "execution_count": 13,
      "outputs": []
    },
    {
      "cell_type": "code",
      "metadata": {
        "colab": {
          "base_uri": "https://localhost:8080/"
        },
        "id": "IvWoR1o-dF-R",
        "outputId": "a9aaa239-84ad-4027-81a3-9b3445a9f478"
      },
      "source": [
        "print('Entropy CIFAR100 VGG16')\n",
        "print('\\nSingle model')\n",
        "print('CIFAR100:', entropy(single.T).mean())\n",
        "# print('CIFAR100:', entropy(single[single_mask].T).mean())\n",
        "# print('CIFAR100:', entropy(single[~single_mask].T).mean())\n",
        "print('SVHN:', entropy(single_svhn.T).mean())\n",
        "print('Gaussian:', entropy(single_n.T).mean())\n",
        "\n",
        "print('\\nEnsemble k=2')\n",
        "print('CIFAR100:', entropy(ensemble_2.T).mean())\n",
        "print('SVHN:', entropy(ensemble_2_svhn.T).mean())\n",
        "print('Gaussian:', entropy(ensemble_2_n.T).mean())\n",
        "\n",
        "print('\\nEnsemble k=20')\n",
        "print('CIFAR100:', entropy(ensemble_20.T).mean())\n",
        "print('SVHN:', entropy(ensemble_20_svhn.T).mean())\n",
        "print('Gaussian:', entropy(ensemble_20_n.T).mean())\n",
        "\n",
        "print('\\nSWAG k=8 (128)')\n",
        "print('CIFAR100:', entropy(swag.T).mean())\n",
        "# print('CIFAR100:', entropy(swag[swag_mask].T).mean())\n",
        "# print('CIFAR100:', entropy(swag[~swag_mask].T).mean())\n",
        "print('SVHN:', entropy(swag_svhn.T).mean())\n",
        "print('Gaussian:', entropy(swag_n.T).mean())\n",
        "\n",
        "print('\\nEntropy CIFAR10 VGG16')\n",
        "print('\\nSingle model')\n",
        "print('CIFAR10:', entropy(single10.T).mean())\n",
        "print('SVHN:', entropy(single10_svhn.T).mean())\n",
        "print('Gaussian:', entropy(single10_n.T).mean())\n",
        "\n",
        "print('\\nEnsemble k=2')\n",
        "print('CIFAR10:', entropy(ensemble10_2.T).mean())\n",
        "print('SVHN:', entropy(ensemble10_2_svhn.T).mean())\n",
        "print('Gaussian:', entropy(ensemble10_2_n.T).mean())\n",
        "\n",
        "print('\\nEnsemble k=20')\n",
        "print('CIFAR10:', entropy(ensemble10_20.T).mean())\n",
        "print('SVHN:', entropy(ensemble10_20_svhn.T).mean())\n",
        "print('Gaussian:', entropy(ensemble10_20_n.T).mean())\n",
        "\n",
        "print('\\nSWAG k=8 (128)')\n",
        "print('CIFAR10:', entropy(swag10.T).mean())\n",
        "print('SVHN:', entropy(swag10_svhn.T).mean())\n",
        "print('Gaussian:', entropy(swag10_n.T).mean())"
      ],
      "execution_count": 34,
      "outputs": [
        {
          "output_type": "stream",
          "text": [
            "Entropy CIFAR100 VGG16\n",
            "\n",
            "Single model\n",
            "CIFAR100: 0.36590943\n",
            "CIFAR100: 0.14601204\n",
            "CIFAR100: 0.8030105\n",
            "SVHN: 1.0064511\n",
            "Gaussian: 0.70562893\n",
            "\n",
            "Ensemble k=2\n",
            "CIFAR100: 0.44262382\n",
            "SVHN: 1.1445429\n",
            "Gaussian: 0.606499\n",
            "\n",
            "Ensemble k=20\n",
            "CIFAR100: 0.6436284\n",
            "SVHN: 1.4936976\n",
            "Gaussian: 1.1913989\n",
            "\n",
            "SWAG k=8 (128)\n",
            "CIFAR100: 0.5235151\n",
            "CIFAR100: 0.25477436\n",
            "CIFAR100: 1.0993398\n",
            "SVHN: 1.2464372\n",
            "Gaussian: 0.71285266\n",
            "\n",
            "Entropy CIFAR10 VGG16\n",
            "\n",
            "Single model\n",
            "CIFAR10: 0.070742406\n",
            "SVHN: 0.4867465\n",
            "Gaussian: 0.14269099\n",
            "\n",
            "Ensemble k=2\n",
            "CIFAR10: 0.090693675\n",
            "SVHN: 0.50139767\n",
            "Gaussian: 0.19741191\n",
            "\n",
            "Ensemble k=20\n",
            "CIFAR10: 0.127225\n",
            "SVHN: 0.6670243\n",
            "Gaussian: 0.23204009\n",
            "\n",
            "SWAG k=8 (128)\n",
            "CIFAR10: 0.10531652\n",
            "SVHN: 0.6022755\n",
            "Gaussian: 0.1957414\n"
          ],
          "name": "stdout"
        }
      ]
    },
    {
      "cell_type": "markdown",
      "metadata": {
        "id": "4rDt-Qa089E6"
      },
      "source": [
        "## OOD detection AUCROC (with max confidence as in-domain score)"
      ]
    },
    {
      "cell_type": "markdown",
      "metadata": {
        "id": "hOEWYrktAFXk"
      },
      "source": [
        "## TODO: only use correctly classified samples?"
      ]
    },
    {
      "cell_type": "code",
      "metadata": {
        "id": "eoG0oTsedbAB"
      },
      "source": [
        "from sklearn.metrics import roc_auc_score, roc_curve\n",
        "\n",
        "def get_ood_aucroc(in_domain, ood):\n",
        "    y = np.concatenate([in_domain, ood])\n",
        "    t = np.concatenate([np.ones_like(in_domain), np.zeros_like(ood)])\n",
        "    return roc_auc_score(t, y)\n",
        "\n",
        "def get_ood_roc_curve(in_domain, ood):\n",
        "    y = np.concatenate([in_domain, ood])\n",
        "    t = np.concatenate([np.ones_like(in_domain), np.zeros_like(ood)])\n",
        "    return roc_curve(t, y)"
      ],
      "execution_count": 14,
      "outputs": []
    },
    {
      "cell_type": "code",
      "metadata": {
        "colab": {
          "base_uri": "https://localhost:8080/"
        },
        "id": "gsqNnjDum89Q",
        "outputId": "dc5c44b5-287d-48c3-f287-2e9ba6d58f0d"
      },
      "source": [
        "ensemble10_8_svhn, ensemble10_20_svhn"
      ],
      "execution_count": 24,
      "outputs": [
        {
          "output_type": "execute_result",
          "data": {
            "text/plain": [
              "(array([[1.2593249e-02, 2.2220727e-04, 1.0368030e-02, ..., 1.0590546e-03,\n",
              "         5.6364154e-03, 7.3393882e-04],\n",
              "        [3.4198076e-02, 2.1728906e-03, 4.8866266e-01, ..., 8.7065209e-04,\n",
              "         2.3494309e-02, 1.8676756e-04],\n",
              "        [2.3233208e-01, 7.2238343e-03, 9.8441923e-03, ..., 2.2666473e-03,\n",
              "         1.0078109e-01, 7.0542149e-04],\n",
              "        ...,\n",
              "        [7.4976647e-01, 3.1987362e-04, 3.0429054e-03, ..., 5.1954261e-04,\n",
              "         4.7815878e-02, 4.0227271e-04],\n",
              "        [4.7037218e-02, 4.8920943e-04, 7.9675525e-02, ..., 5.4519507e-04,\n",
              "         2.0265402e-04, 5.3670032e-05],\n",
              "        [7.3489137e-03, 2.0869485e-04, 3.0809881e-02, ..., 3.3410496e-04,\n",
              "         8.8226021e-05, 2.0866642e-05]], dtype=float32),\n",
              " array([[1.7180001e-02, 4.0963749e-04, 1.0764668e-02, ..., 1.1172885e-03,\n",
              "         6.1258175e-03, 1.4673318e-03],\n",
              "        [8.6280584e-02, 3.0094045e-03, 5.3961241e-01, ..., 9.0501213e-04,\n",
              "         1.7987739e-02, 1.6683001e-04],\n",
              "        [2.4239728e-01, 5.6843152e-03, 1.1744766e-02, ..., 1.3486153e-03,\n",
              "         1.6301504e-01, 5.4212898e-04],\n",
              "        ...,\n",
              "        [7.3574448e-01, 3.1201178e-04, 1.5908690e-03, ..., 3.3007999e-04,\n",
              "         1.7674075e-01, 5.3976855e-04],\n",
              "        [2.5257979e-02, 2.7701241e-04, 1.7462815e-01, ..., 4.5764237e-04,\n",
              "         1.6984726e-04, 3.6090485e-05],\n",
              "        [5.5866479e-03, 2.0810177e-04, 1.0069662e-01, ..., 3.8632020e-04,\n",
              "         1.3537698e-04, 1.9396688e-05]], dtype=float32))"
            ]
          },
          "metadata": {
            "tags": []
          },
          "execution_count": 24
        }
      ]
    },
    {
      "cell_type": "code",
      "metadata": {
        "colab": {
          "base_uri": "https://localhost:8080/"
        },
        "id": "9qJxYzcNfswa",
        "outputId": "420add1b-ef1c-4979-b9cb-d9a2390bfd7a"
      },
      "source": [
        "# print('\\nCIFAR100 vs SVHN')\n",
        "print(f'Single: & {get_ood_aucroc(single.max(axis=1), single_svhn.max(axis=1)):.6f}'\n",
        "      f' & {get_ood_aucroc(single.max(axis=1), single_n.max(axis=1)):.6f}'\n",
        "      f' & {get_ood_aucroc(single10.max(axis=1), single10_svhn.max(axis=1)):.6f}'\n",
        "      f' & {get_ood_aucroc(single10.max(axis=1), single10_n.max(axis=1)):.6f} \\\\\\\\')\n",
        "\n",
        "\n",
        "print(f'E k=8 {get_ood_aucroc(ensemble_8.max(axis=1), ensemble_8_svhn.max(axis=1)):.6f}'\n",
        "      f' & {get_ood_aucroc(ensemble_8.max(axis=1), ensemble_8_n.max(axis=1)):.6f}'\n",
        "      f' & {get_ood_aucroc(ensemble10_8.max(axis=1), ensemble10_8_svhn.max(axis=1)):.6f}'\n",
        "      f' & {get_ood_aucroc(ensemble10_8.max(axis=1), ensemble10_8_n.max(axis=1)):.6f} \\\\\\\\')\n",
        "\n",
        "print(f'E k=20 {get_ood_aucroc(ensemble_20.max(axis=1), ensemble_20_svhn.max(axis=1)):.6f}'\n",
        "      f' & {get_ood_aucroc(ensemble_20.max(axis=1), ensemble_20_n.max(axis=1)):.6f}'\n",
        "      f' & {get_ood_aucroc(ensemble10_20.max(axis=1), ensemble10_20_svhn.max(axis=1)):.6f}'\n",
        "      f' & {get_ood_aucroc(ensemble10_20.max(axis=1), ensemble10_20_n.max(axis=1)):.6f} \\\\\\\\')\n",
        "\n",
        "print(f'SWAG K=8 {get_ood_aucroc(swag.max(axis=1), swag_svhn.max(axis=1)):.6f}'\n",
        "      f' & {get_ood_aucroc(swag.max(axis=1), swag_n.max(axis=1)):.6f}'\n",
        "      f' & {get_ood_aucroc(swag10.max(axis=1), swag10_svhn.max(axis=1)):.6f}'\n",
        "      f' & {get_ood_aucroc(swag10.max(axis=1), swag10_n.max(axis=1)):.6f} \\\\\\\\')\n",
        "\n",
        "\n",
        "# print('E k=2 : ', get_ood_aucroc(ensemble_2.max(axis=1), ensemble_2_svhn.max(axis=1)))\n",
        "# # print('E k=10: ', get_ood_aucroc(ensemble_10.max(axis=1), ensemble_10_svhn.max(axis=1)))\n",
        "# # print('\\nCIFAR100 vs Gaussian')\n",
        "# print('E k=2 : ', get_ood_aucroc(ensemble_2.max(axis=1), ensemble_2_n.max(axis=1)))\n",
        "# # print('E k=10: ', get_ood_aucroc(ensemble_10.max(axis=1), ensemble_10_n.max(axis=1)))\n",
        "# # print('\\nCIFAR10 vs SVHN')\n",
        "# print('E k=2 : ', get_ood_aucroc(ensemble10_2.max(axis=1), ensemble10_2_svhn.max(axis=1)))\n",
        "# # print('E k=10: ', get_ood_aucroc(ensemble10_10.max(axis=1), ensemble10_10_svhn.max(axis=1)))\n",
        "# # print('\\nCIFAR10 vs Gaussian')\n",
        "# print('E k=2 : ', get_ood_aucroc(ensemble10_2.max(axis=1), ensemble10_2_n.max(axis=1)))\n",
        "# # print('E k=10: ', get_ood_aucroc(ensemble10_10.max(axis=1), ensemble10_10_n.max(axis=1)))"
      ],
      "execution_count": 28,
      "outputs": [
        {
          "output_type": "stream",
          "text": [
            "Single: & 0.784062 & 0.763696 & 0.906522 & 0.814548 \\\\\n",
            "E k=8 0.768016 & 0.748984 & 0.889072 & 0.796830 \\\\\n",
            "E k=20 0.768292 & 0.819433 & 0.889354 & 0.787068 \\\\\n",
            "SWAG K=8 0.755909 & 0.719460 & 0.891704 & 0.800886 \\\\\n"
          ],
          "name": "stdout"
        }
      ]
    },
    {
      "cell_type": "code",
      "metadata": {
        "colab": {
          "base_uri": "https://localhost:8080/",
          "height": 282
        },
        "id": "hvCPbnAHfvor",
        "outputId": "580ac1ff-9984-48fb-e8e8-1a8a0c887b8d"
      },
      "source": [
        "fpr, tpr, thresholds = get_ood_roc_curve(single.max(axis=1), single_svhn.max(axis=1))\n",
        "plt.plot(fpr, tpr, label='single')\n",
        "fpr, tpr, thresholds = get_ood_roc_curve(ensemble_20.max(axis=1), ensemble_20_svhn.max(axis=1))\n",
        "plt.plot(fpr, tpr, label='ensemble')\n",
        "plt.legend()"
      ],
      "execution_count": null,
      "outputs": [
        {
          "output_type": "execute_result",
          "data": {
            "text/plain": [
              "<matplotlib.legend.Legend at 0x7f14527f8bd0>"
            ]
          },
          "metadata": {
            "tags": []
          },
          "execution_count": 36
        },
        {
          "output_type": "display_data",
          "data": {
            "image/png": "[encoded data removed]",
            "text/plain": [
              "<Figure size 432x288 with 1 Axes>"
            ]
          },
          "metadata": {
            "tags": [],
            "needs_background": "light"
          }
        }
      ]
    },
    {
      "cell_type": "code",
      "metadata": {
        "colab": {
          "base_uri": "https://localhost:8080/",
          "height": 282
        },
        "id": "ZSRkOBukgD_F",
        "outputId": "9e8dfe21-fd2c-4489-a3d6-fbfc4cc896b4"
      },
      "source": [
        "fpr, tpr, thresholds = get_ood_roc_curve(single.max(axis=1), single_n.max(axis=1))\n",
        "plt.plot(fpr, tpr, label='single')\n",
        "fpr, tpr, thresholds = get_ood_roc_curve(ensemble_20.max(axis=1), ensemble_20_n.max(axis=1))\n",
        "plt.plot(fpr, tpr, label='ensemble')\n",
        "fpr, tpr, thresholds = get_ood_roc_curve(swag.max(axis=1), swag_n.max(axis=1))\n",
        "plt.plot(fpr, tpr, label='swag')\n",
        "plt.legend()"
      ],
      "execution_count": null,
      "outputs": [
        {
          "output_type": "execute_result",
          "data": {
            "text/plain": [
              "<matplotlib.legend.Legend at 0x7f0456f33090>"
            ]
          },
          "metadata": {
            "tags": []
          },
          "execution_count": 77
        },
        {
          "output_type": "display_data",
          "data": {
            "image/png": "[encoded data removed]",
            "text/plain": [
              "<Figure size 432x288 with 1 Axes>"
            ]
          },
          "metadata": {
            "tags": [],
            "needs_background": "light"
          }
        }
      ]
    },
    {
      "cell_type": "markdown",
      "metadata": {
        "id": "obbY4wPy9EBg"
      },
      "source": [
        "# Weight space visualisations"
      ]
    },
    {
      "cell_type": "code",
      "metadata": {
        "id": "JoafCiT0jnfL"
      },
      "source": [
        "predictions10, targets10 = get_preds('1eptvyat') # CIFAR10 interpolate\n",
        "predictions100, targets100 = get_preds('3ji5gbi5') # CIFAR100 interpolate"
      ],
      "execution_count": null,
      "outputs": []
    },
    {
      "cell_type": "code",
      "metadata": {
        "colab": {
          "base_uri": "https://localhost:8080/",
          "height": 353
        },
        "id": "7DPalxNl-Njl",
        "outputId": "86d1b92f-c943-48b8-b195-9e6457438b8d"
      },
      "source": [
        "n_samples = 16\n",
        "locations = np.arange(-1/(n_samples-2), 1 + 2/(n_samples-2), 1/(n_samples-2))[:n_samples]\n",
        "accuracies10 = []\n",
        "accuracies100 = []\n",
        "for i in range(n_samples):\n",
        "  accuracies10.append(accuracy_score(targets10, predictions10[-i-1].argmax(axis=1)))\n",
        "  accuracies100.append(accuracy_score(targets100, predictions100[-i-1].argmax(axis=1)))\n",
        "\n",
        "plt.figure(figsize=(10,5))\n",
        "plt.subplot(1,2,1)\n",
        "plt.title('CIFAR10')\n",
        "plt.plot(locations, accuracies10, 'k.:')\n",
        "plt.plot([0], [accuracies10[1]], 'rx')\n",
        "plt.plot([1], [accuracies10[-1]], 'rx')\n",
        "# plt.ylabel('accuracy')\n",
        "# plt.ylabel('relative location between checkpoints')\n",
        "plt.subplot(1,2,2)\n",
        "plt.title('CIFAR100')\n",
        "plt.plot(locations, accuracies100, 'k.:')\n",
        "plt.plot([0], [accuracies100[1]], 'rx')\n",
        "plt.plot([1], [accuracies100[-1]], 'rx')\n",
        "# plt.savefig()"
      ],
      "execution_count": null,
      "outputs": [
        {
          "output_type": "execute_result",
          "data": {
            "text/plain": [
              "[<matplotlib.lines.Line2D at 0x7f1452a28790>]"
            ]
          },
          "metadata": {
            "tags": []
          },
          "execution_count": 77
        },
        {
          "output_type": "display_data",
          "data": {
            "image/png": "[encoded data removed]",
            "text/plain": [
              "<Figure size 720x360 with 2 Axes>"
            ]
          },
          "metadata": {
            "tags": [],
            "needs_background": "light"
          }
        }
      ]
    },
    {
      "cell_type": "code",
      "metadata": {
        "colab": {
          "base_uri": "https://localhost:8080/"
        },
        "id": "WaFkRLrG-94n",
        "outputId": "6b29f21e-fafb-4229-8392-9798e9c7d8a3"
      },
      "source": [
        "predictions10.shape"
      ],
      "execution_count": null,
      "outputs": [
        {
          "output_type": "execute_result",
          "data": {
            "text/plain": [
              "(16, 10000, 10)"
            ]
          },
          "metadata": {
            "tags": []
          },
          "execution_count": 74
        }
      ]
    },
    {
      "cell_type": "code",
      "metadata": {
        "id": "_jIJ78Hu_aiA"
      },
      "source": [
        ""
      ],
      "execution_count": null,
      "outputs": []
    }
  ]
}